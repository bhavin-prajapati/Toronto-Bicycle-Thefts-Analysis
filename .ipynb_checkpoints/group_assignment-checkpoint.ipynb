{
 "cells": [
  {
   "cell_type": "markdown",
   "metadata": {},
   "source": [
    "# Group Assignment: Bicycle Thefts in Toronto, Ontario"
   ]
  },
  {
   "cell_type": "markdown",
   "metadata": {},
   "source": [
    "### Group 12: \n",
    "- Cao, Huy, h69cao, tripico@gmail.com\n",
    "- Jain, Dherya, d63jain, jaindherya16@gmail.com\n",
    "- Prajapati, Bhavin, b4prajap, bhavin.prajapati@gmail.com\n",
    "- Richards, Colin, c23richa, colinrichards@protonmail.com\n",
    "- Sarmast Sakhvidi, Sepideh, ssarmast, ssarmast@uwaterloo.ca\n",
    "- Thakur, Chinmay, c2thakur, chinmaythakur27@gmail.com\n",
    "\n"
   ]
  },
  {
   "cell_type": "markdown",
   "metadata": {},
   "source": [
    "# Dataset\n",
    "<a href=\"https://open.toronto.ca/dataset/bicycle-thefts/\" data-toc-modified-id=\"Bicycle-Thefts-City-of-Toronto-Open-Data-Portal\">Bicycle Thefts - City of Toronto Open Data Portal</a>\n",
    "<br>\n",
    "URL: https://open.toronto.ca/dataset/bicycle-thefts/"
   ]
  },
  {
   "cell_type": "markdown",
   "metadata": {},
   "source": [
    "# Key Questions\n",
    "### When are bicycle offences most likely to occur?\n",
    "- Analyze yearly, monthly, and hourly trends to identify peak times.\n",
    "- Determine high-risk days of the week and seasonal patterns.\n",
    "\n",
    "### Where are bicycle thefts most frequent?\n",
    "- Identify hotspots based on police divisions and location types.\n",
    "- Assess geographic concentration using longitude and latitude data.\n",
    "\n",
    "### What types of bicycles are targeted?\n",
    "- Investigate if certain makes, models, or higher-cost bicycles are more likely to be stolen.\n",
    "- Analyze the impact of bicycle characteristics (speed, type, colour) on theft likelihood.\n",
    "\n"
   ]
  },
  {
   "cell_type": "markdown",
   "metadata": {},
   "source": [
    "## Import Libraries\n",
    "First we will import all the libraries we need to do our analysis"
   ]
  },
  {
   "cell_type": "code",
   "execution_count": null,
   "metadata": {},
   "outputs": [],
   "source": [
    "# Install libraries if needed by uncommenting\n",
    "# !pip install numpy\n",
    "# !pip install pandas\n",
    "# !pip install matplotlib\n",
    "# !pip install descartes\n",
    "# !conda install -c conda-forge geopandas\n",
    "# !pip install shapely\n",
    "# !pip install mplcursors\n",
    "\n",
    "import numpy as np\n",
    "import pandas as pd\n",
    "import matplotlib.pyplot as plt\n",
    "import descartes\n",
    "import geopandas as gpd\n",
    "import shapely\n",
    "from shapely.geometry import Point, Polygon\n",
    "from mplcursors import cursor\n",
    "\n",
    "%matplotlib inline"
   ]
  },
  {
   "cell_type": "markdown",
   "metadata": {},
   "source": [
    "## Read the Data\n",
    "First we will read the data from our dataset which was obtained from the City of Toronto website."
   ]
  },
  {
   "cell_type": "code",
   "execution_count": null,
   "metadata": {},
   "outputs": [],
   "source": [
    "# Read the dataset\n",
    "bicycle_thefts = pd.read_csv('bicycle-thefts - 4326.csv', sep=',') \n",
    "print(bicycle_thefts)"
   ]
  },
  {
   "cell_type": "markdown",
   "metadata": {},
   "source": [
    "## Clean the Data\n",
    "Now we clean the data using techniques we learned from our course material."
   ]
  },
  {
   "cell_type": "code",
   "execution_count": null,
   "metadata": {},
   "outputs": [],
   "source": [
    "# Remove redundant columns\n",
    "bicycle_thefts_cleaned = bicycle_thefts.drop(['OCC_YEAR', 'OCC_MONTH', 'OCC_DOW', 'OCC_DAY', 'OCC_DOY'], axis=1)\n",
    "bicycle_thefts_cleaned = bicycle_thefts_cleaned.drop(['REPORT_YEAR', 'REPORT_MONTH', 'REPORT_DOW', 'REPORT_DAY', 'REPORT_DOY'], axis=1)\n",
    "bicycle_thefts_cleaned = bicycle_thefts_cleaned.drop(['geometry'], axis=1)\n",
    "\n",
    "bicycle_thefts_cleaned"
   ]
  },
  {
   "cell_type": "markdown",
   "metadata": {},
   "source": [
    "## Where are bicycle thefts most frequent?\n",
    "Now we analysis where the occurances took place using the map metadata from our dataset"
   ]
  },
  {
   "cell_type": "code",
   "execution_count": null,
   "metadata": {},
   "outputs": [],
   "source": [
    "# Read the neighborhood shapefile data and plot\n",
    "street_map = gpd.read_file(\"Neighbourhoods - 4326.shp\")\n",
    "# neighbourhoods = street_map.plot(column='AREA_NA7', figsize=(15,15), edgecolor='black', legend=False)\n",
    "\n",
    "df = gpd.read_file('bicycle-thefts - 4326.geojson')\n",
    "df.to_crs(epsg=7991, inplace=True)\n",
    "\n",
    "geometry = [Point(xy) for xy in zip(bicycle_thefts_cleaned['LONG_WGS84'], bicycle_thefts_cleaned['LAT_WGS84'])]\n",
    "\n",
    "geo_df = gpd.GeoDataFrame(df, #specify our data\n",
    "                          crs='EPSG:7991', #specify our coordinate reference system\n",
    "                          geometry=geometry) #specify the geometry list we created\n",
    "\n",
    "fig, ax = plt.subplots(figsize=(15,15))\n",
    "street_map.plot(ax=ax, alpha=0.4, color='white', edgecolor='black')\n",
    "\n",
    "geo_df.plot(ax=ax,\n",
    "            markersize=2,\n",
    "            color='red',\n",
    "            marker='o',\n",
    "            label='Bike Thefts')\n",
    "\n",
    "plt.legend(prop={'size':10})"
   ]
  },
  {
   "cell_type": "code",
   "execution_count": null,
   "metadata": {},
   "outputs": [],
   "source": []
  }
 ],
 "metadata": {
  "celltoolbar": "Raw Cell Format",
  "kernelspec": {
   "display_name": "Python 3 (ipykernel)",
   "language": "python",
   "name": "python3"
  },
  "language_info": {
   "codemirror_mode": {
    "name": "ipython",
    "version": 3
   },
   "file_extension": ".py",
   "mimetype": "text/x-python",
   "name": "python",
   "nbconvert_exporter": "python",
   "pygments_lexer": "ipython3",
   "version": "3.12.0"
  },
  "toc": {
   "base_numbering": 1,
   "nav_menu": {},
   "number_sections": false,
   "sideBar": true,
   "skip_h1_title": false,
   "title_cell": "Table of Contents",
   "title_sidebar": "Contents",
   "toc_cell": false,
   "toc_position": {},
   "toc_section_display": true,
   "toc_window_display": false
  }
 },
 "nbformat": 4,
 "nbformat_minor": 4
}
